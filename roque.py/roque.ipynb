{
 "cells": [
  {
   "cell_type": "code",
   "execution_count": null,
   "metadata": {},
   "outputs": [
    {
     "ename": "",
     "evalue": "",
     "output_type": "error",
     "traceback": [
      "\u001b[1;31mA execução de células com '/bin/python3' requer o pacote ipykernel.\n",
      "\u001b[1;31mExecute o seguinte comando para instalar \"ipykernel\" no ambiente do Python. \n",
      "\u001b[1;31mComando: \"/bin/python3 -m pip install ipykernel -U --user --force-reinstall\""
     ]
    }
   ],
   "source": [
    "from selenium import webdriver\n",
    "from selenium.webdriver.chrome.service import Service\n",
    "from webdriver_manager.chrome import ChromeDriverManager\n",
    "\n",
    "service = Service(ChromeDriverManager().install())\n",
    "nav = webdriver.Chrome(service=service)\n",
    "nav.get(\"https://web.whatsapp.com\")"
   ]
  },
  {
   "cell_type": "code",
   "execution_count": null,
   "metadata": {},
   "outputs": [],
   "source": [
    "from selenium.webdriver.common.keys import Keys\n",
    "mensagem = input(\"Qual a mensagem?\")\n",
    "lista_contatos = [\"Clonar\"]\n",
    "nav.find_element('xpath', '//[@id=\"side]/div[1]/div/div/button/div[2]/span').clic()\n",
    "nav.find_element('xpath', '//[@id=\"side]/div[1]/div/div/div[2]/div/div[1]/p').send_keys(\"Clonar\")\n",
    "nav.find_element('xpath', '//[@id=\"side]/div[1]/div/div/div[2]/div/div[1]/p').send_keys(Keys.ENTER)\n",
    "time.sleep(2)\n",
    "\n",
    "\n",
    "pyperclip.copy(mensagem)\n",
    "nav.find_element('xpath', '//[@id=\"side]/div[1]/div/div/div[2]/div/div[1]/p').send_keys(CONTROL + \"v\")\n",
    "nav.find_element('xpath', '//[@id=\"side]/div[1]/div/div/div[2]/div/div[1]/p').send_keys(ENTER)\n",
    "time.sleep(2)\n",
    "\n",
    "\n"
   ]
  },
  {
   "cell_type": "code",
   "execution_count": null,
   "metadata": {},
   "outputs": [],
   "source": [
    "from selenium.webdriver.common.action_chains import ActionChains\n",
    "\n",
    "lista_elementos = nav.find_elements('class name', '_ZAOIt')\n",
    "for item in lista_elementos:\n",
    "    mensagem = mensagem.replace(\"\\n\", \"\")\n",
    "    texto = item.text.replace(\"\\n\", \"\")\n",
    "    if mensagem in texto:\n",
    "        elemento = item\n",
    "        break\n",
    "\n",
    "ActionChains(nav).move_to(elemento).perform()\n",
    "elemento.find_element('class name', '_3u9t-').clic()\n",
    "time.sleep(1)\n",
    "nav.find_element('xpath', '//*[@id=\"app\"]/div/span[4]/div/ul/div/li[4]/div').click()\n",
    "nav.find_element('xpath', '//*[@id=\"main\"]/span[2]/div/button[4]/span').click()\n",
    "time.sleep(2)\n",
    "\n",
    "\n",
    "nav.find('xpath', '//*[@id=\"app\"]/div/span[2]/div/div/div/div/div/div/div/div[1]/div/div/div[2]/div/div[1]/p').send_keys(\"Clonar\")\n",
    "time.sleep(1)\n",
    "nav.find('xpath', '//*[@id=\"app\"]/div/span[2]/div/div/div/div/div/div/div/div[1]/div/div/div[2]/div/div[1]/p').send_keys(Keys.ENTER)\n",
    "time.sleep(1)\n",
    "nav.find('xpath', '//*[@id=\"app\"]/div/span[2]/div/div/div/div/div/div/div/div[1]/div/div/div[2]/div/div[1]/p').send_keys(Keys.BACKSPACE)\n",
    "time.sleep(1)\n"
   ]
  },
  {
   "cell_type": "code",
   "execution_count": null,
   "metadata": {},
   "outputs": [],
   "source": [
    "qtde_contatos = len(lista_contatos)\n",
    "if qtde_contatos % 5 == 0:\n",
    "    qtde_blocos =qtde_contatos / 5 \n",
    "else:\n",
    "    qtde_blocos = qtde_contatos / 5 + 1\n",
    "\n",
    "for i in range(qtde_blocos):\n",
    "    i_inicial = i * 5 = 0 \n",
    "    i_final = (i + 1) * 5 = 5\n",
    "    lista_enviar = lista_contatos[i_inicial:i_final]\n",
    "\n",
    "    lista_elementos = nav.find_elements('class name', '_ZAOIt')\n",
    "for item in lista_elementos:\n",
    "    mensagem = mensagem.replace(\"\\n\", \"\")\n",
    "    texto = item.text.replace(\"\\n\", \"\")\n",
    "    if mensagem in texto:\n",
    "        elemento = item\n",
    "        break\n",
    "\n",
    "ActionChains(nav).move_to(elemento).perform()\n",
    "elemento.find_element('class name', '_3u9t-').clic()\n",
    "time.sleep(1)\n",
    "nav.find_element('xpath', '//*[@id=\"app\"]/div/span[4]/div/ul/div/li[4]/div').click()\n",
    "nav.find_element('xpath', '//*[@id=\"main\"]/span[2]/div/button[4]/span').click()\n",
    "time.sleep(2)\n",
    "\n",
    "for nome in lista_enviar\n",
    "\n",
    "    nav.find('xpath', '//*[@id=\"app\"]/div/span[2]/div/div/div/div/div/div/div/div[1]/div/div/div[2]/div/div[1]/p').send_keys(\"Clonar\")\n",
    "    time.sleep(1)\n",
    "    nav.find('xpath', '//*[@id=\"app\"]/div/span[2]/div/div/div/div/div/div/div/div[1]/div/div/div[2]/div/div[1]/p').send_keys(Keys.ENTER)\n",
    "    time.sleep(1)\n",
    "    nav.find('xpath', '//*[@id=\"app\"]/div/span[2]/div/div/div/div/div/div/div/div[1]/div/div/div[2]/div/div[1]/p').send_keys(Keys.BACKSPACE)\n",
    "    time.sleep(1)\n"
   ]
  }
 ],
 "metadata": {
  "kernelspec": {
   "display_name": "Python 3",
   "language": "python",
   "name": "python3"
  },
  "language_info": {
   "name": "python",
   "version": "3.10.12"
  }
 },
 "nbformat": 4,
 "nbformat_minor": 2
}
